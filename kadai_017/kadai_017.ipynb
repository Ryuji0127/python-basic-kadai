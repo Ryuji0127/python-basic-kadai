{
  "nbformat": 4,
  "nbformat_minor": 0,
  "metadata": {
    "colab": {
      "provenance": []
    },
    "kernelspec": {
      "name": "python3",
      "display_name": "Python 3"
    },
    "language_info": {
      "name": "python"
    }
  },
  "cells": [
    {
      "cell_type": "markdown",
      "source": [
        "名前(name)と年齢(age)の属性を持つHumanクラスを作成してください。\n",
        "\n",
        "Humanクラスには、以下の条件で標準出力(print)するcheck_adultメソッドを追加してください。\n",
        "\n",
        "ageが20以上の場合に大人であること<br>\n",
        "そうでない場合に大人でないこと<br>\n",
        "Humanクラスのインスタンスを複数生成してリストに追加し、リストの要素数分だけ<br>check_adultメソッドを呼び出してください。\n",
        "\n",
        "**合格基準<br>\n",
        "本教材で学習した「リスト・ディクショナリ」「条件分岐」「繰り返し処理」「関数」「変数のスコープ」「クラス」を用いて、「課題の内容」の仕様通りのプログラムが記述されている**\n"
      ],
      "metadata": {
        "id": "1bzzaDrHqDWI"
      }
    },
    {
      "cell_type": "code",
      "source": [
        "class Human : # class 定義 Human(引数1,引数2)\n",
        "  def __init__ (self,name,age) :\n",
        "    self.name = name\n",
        "    self.age = age\n",
        "\n",
        "# check_adultメソッド定義\n",
        "  def check_adult(self) :\n",
        "    if self.age >= 20 : # 引数 age が等しい又は大きい時\n",
        "      print(f\"{self.name}は大人です。\") #引数のname側が入る\n",
        "    else :\n",
        "      print(f\"{self.name}は大人ではないです。\")\n",
        "\n",
        "judge_1 = Human(\"侍\",23) # インスタンス化とHumanクラスに渡す引数指定\n",
        "judge_2 = Human(\"早乙女\",18)\n",
        "\n",
        "judge_age = [judge_1,judge_2]  # forループで判定するためリスト化\n",
        "\n",
        "for Human in judge_age : # リスト内の処理をループ　この場合クラスを変数化している為、二つのクラスを回す\n",
        " Human.check_adult() # Humanクラスのcheck_adultメソッドと紐づけ"
      ],
      "metadata": {
        "colab": {
          "base_uri": "https://localhost:8080/"
        },
        "id": "ct9ryM_hfZC-",
        "outputId": "bb86f14a-8470-4c31-dde2-59691f90d607"
      },
      "execution_count": 10,
      "outputs": [
        {
          "output_type": "stream",
          "name": "stdout",
          "text": [
            "侍は大人です。\n",
            "早乙女は大人ではないです。\n"
          ]
        }
      ]
    },
    {
      "cell_type": "code",
      "source": [],
      "metadata": {
        "id": "Ybn8XpU4h0xF"
      },
      "execution_count": null,
      "outputs": []
    }
  ]
}
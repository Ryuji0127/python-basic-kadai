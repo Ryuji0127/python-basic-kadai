{
  "nbformat": 4,
  "nbformat_minor": 0,
  "metadata": {
    "colab": {
      "provenance": []
    },
    "kernelspec": {
      "name": "python3",
      "display_name": "Python 3"
    },
    "language_info": {
      "name": "python"
    }
  },
  "cells": [
    {
      "cell_type": "code",
      "source": [
        "a=10 #上辺\n",
        "b=20 #下辺\n",
        "c=5  #高さ"
      ],
      "metadata": {
        "id": "Ra9BXVewIYyb"
      },
      "execution_count": 5,
      "outputs": []
    },
    {
      "cell_type": "code",
      "source": [
        "#公式：台形の面積 =（上辺＋下辺）× 高さ ÷ 2\n",
        "((a+b)*c)/2 #変数にする\n",
        "area=((a+b)*c)/2"
      ],
      "metadata": {
        "id": "3ODowvXSPOeX"
      },
      "execution_count": 9,
      "outputs": []
    },
    {
      "cell_type": "code",
      "source": [
        "print(area+\"㎠\") #areaがfloat型かstr型どちらですかエラー"
      ],
      "metadata": {
        "id": "SonUj68JPPAf",
        "colab": {
          "base_uri": "https://localhost:8080/",
          "height": 147
        },
        "outputId": "33e023e8-8a21-46b1-b304-0fd0d4fa3e36"
      },
      "execution_count": 10,
      "outputs": [
        {
          "output_type": "error",
          "ename": "TypeError",
          "evalue": "unsupported operand type(s) for +: 'float' and 'str'",
          "traceback": [
            "\u001b[0;31m---------------------------------------------------------------------------\u001b[0m",
            "\u001b[0;31mTypeError\u001b[0m                                 Traceback (most recent call last)",
            "\u001b[0;32m<ipython-input-10-1563863ddbc6>\u001b[0m in \u001b[0;36m<cell line: 1>\u001b[0;34m()\u001b[0m\n\u001b[0;32m----> 1\u001b[0;31m \u001b[0mprint\u001b[0m\u001b[0;34m(\u001b[0m\u001b[0marea\u001b[0m\u001b[0;34m+\u001b[0m\u001b[0;34m\"㎠\"\u001b[0m\u001b[0;34m)\u001b[0m\u001b[0;34m\u001b[0m\u001b[0;34m\u001b[0m\u001b[0m\n\u001b[0m",
            "\u001b[0;31mTypeError\u001b[0m: unsupported operand type(s) for +: 'float' and 'str'"
          ]
        }
      ]
    },
    {
      "cell_type": "code",
      "source": [
        "print(str(area)+\"㎠\") #areaを指定"
      ],
      "metadata": {
        "id": "rhKH2akAPPEN",
        "colab": {
          "base_uri": "https://localhost:8080/"
        },
        "outputId": "712a3427-b43d-422b-856f-ec697342cb13"
      },
      "execution_count": 11,
      "outputs": [
        {
          "output_type": "stream",
          "name": "stdout",
          "text": [
            "75.0㎠\n"
          ]
        }
      ]
    },
    {
      "cell_type": "markdown",
      "source": [
        "##float型(浮動小数点型)→int型(整数型)に変更するために\n"
      ],
      "metadata": {
        "id": "mxhskAaq9NdX"
      }
    },
    {
      "cell_type": "code",
      "source": [
        "((a+b)*c)/2 #計算式　変数にする\n",
        "area=((a+b)*c)/2 #変数areaに答えを代入\n",
        "area_r=int(area) #変数areaを出力するとfloat型(浮動小数点型)に変わる為、int型(文字列型)に変更する\n",
        "print(area_r) #print関数で出力\n"
      ],
      "metadata": {
        "id": "H8fu2a18PPQ3",
        "colab": {
          "base_uri": "https://localhost:8080/"
        },
        "outputId": "b072881a-c2c1-448d-d543-bf664ef9defa"
      },
      "execution_count": 32,
      "outputs": [
        {
          "output_type": "stream",
          "name": "stdout",
          "text": [
            "75\n"
          ]
        }
      ]
    },
    {
      "cell_type": "markdown",
      "source": [
        "##★課題の解答"
      ],
      "metadata": {
        "id": "mJ9_-m4s-UTu"
      }
    },
    {
      "cell_type": "code",
      "source": [
        "print(str(area_r)+\"㎠\") #課題の解答"
      ],
      "metadata": {
        "id": "7XM8z_dePPUI",
        "colab": {
          "base_uri": "https://localhost:8080/"
        },
        "outputId": "3a69762f-1888-4eea-8df9-be6fb565bf7d"
      },
      "execution_count": 30,
      "outputs": [
        {
          "output_type": "stream",
          "name": "stdout",
          "text": [
            "75㎠\n"
          ]
        }
      ]
    },
    {
      "cell_type": "code",
      "source": [],
      "metadata": {
        "id": "7g-SERiRPPW4"
      },
      "execution_count": null,
      "outputs": []
    },
    {
      "cell_type": "code",
      "source": [],
      "metadata": {
        "id": "unEco0R_PPa1"
      },
      "execution_count": null,
      "outputs": []
    },
    {
      "cell_type": "code",
      "source": [],
      "metadata": {
        "id": "n15LHvBlPPeY"
      },
      "execution_count": null,
      "outputs": []
    },
    {
      "cell_type": "code",
      "source": [],
      "metadata": {
        "id": "XRfSmeabPPh8"
      },
      "execution_count": null,
      "outputs": []
    },
    {
      "cell_type": "code",
      "source": [],
      "metadata": {
        "id": "CWTwt-_CPPlZ"
      },
      "execution_count": null,
      "outputs": []
    },
    {
      "cell_type": "code",
      "source": [],
      "metadata": {
        "id": "JlKJ3TA7PPoz"
      },
      "execution_count": null,
      "outputs": []
    },
    {
      "cell_type": "code",
      "source": [],
      "metadata": {
        "id": "dNoDv7WoPPsE"
      },
      "execution_count": null,
      "outputs": []
    },
    {
      "cell_type": "code",
      "source": [],
      "metadata": {
        "id": "yphz4ClYPPv1"
      },
      "execution_count": null,
      "outputs": []
    }
  ]
}
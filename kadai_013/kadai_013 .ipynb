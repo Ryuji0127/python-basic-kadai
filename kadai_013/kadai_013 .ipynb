{
  "nbformat": 4,
  "nbformat_minor": 0,
  "metadata": {
    "colab": {
      "provenance": []
    },
    "kernelspec": {
      "name": "python3",
      "display_name": "Python 3"
    },
    "language_info": {
      "name": "python"
    }
  },
  "cells": [
    {
      "cell_type": "markdown",
      "source": [
        "##**★課題「関数を使いこなそう」**"
      ],
      "metadata": {
        "id": "zB-s1jSik5kx"
      }
    },
    {
      "cell_type": "code",
      "source": [
        "# 商品を購入して、消費税を加えた計算結果を返す関数を記述してください。\n",
        "# 第1引数に商品の金額、第2引数に消費税（10%）を設定できるようにしてください。\n",
        "\n",
        "def total():\n",
        " price = 1000\n",
        " tax = 1.1\n",
        "\n",
        " return(price)*tax\n",
        "\n",
        "total()"
      ],
      "metadata": {
        "colab": {
          "base_uri": "https://localhost:8080/"
        },
        "id": "MfyTEfcTk-5v",
        "outputId": "d40e37f9-8c28-474a-943b-3796a0411ff0"
      },
      "execution_count": null,
      "outputs": [
        {
          "output_type": "execute_result",
          "data": {
            "text/plain": [
              "1100.0"
            ]
          },
          "metadata": {},
          "execution_count": 7
        }
      ]
    },
    {
      "cell_type": "code",
      "source": [
        "def total(): #関数定義\n",
        "  price = 1000 #変数定義1\n",
        "  tax = 1.1 #変数定義2\n",
        "\n",
        "  total  = price * tax #計算式\n",
        "\n",
        "  print(total) #totalを出力\n",
        "\n",
        "total() #関数出力\n"
      ],
      "metadata": {
        "id": "8ycZeaEqk_HL",
        "colab": {
          "base_uri": "https://localhost:8080/"
        },
        "outputId": "1c69cddb-911e-4a05-c2b5-a8d43c89e4bc"
      },
      "execution_count": null,
      "outputs": [
        {
          "output_type": "stream",
          "name": "stdout",
          "text": [
            "1100.0\n"
          ]
        }
      ]
    },
    {
      "cell_type": "markdown",
      "source": [
        "##**課題提出↓**"
      ],
      "metadata": {
        "id": "JBj-zsPma-2r"
      }
    },
    {
      "cell_type": "code",
      "source": [
        "def A_total_two(price,tax): #()内に引数が入る\n",
        "\n",
        "  total = price * (tax/100) #消費税10の引数を0.1にする\n",
        "  total_price = price + total #price * 0.1で出た値をpriceにプラスする\n",
        "\n",
        "  print(total_price) #出力\n",
        "\n",
        "A_total_two(1000,10) #()内に引数を入れる 消費税10%の為10で表記"
      ],
      "metadata": {
        "id": "AD7g8CEBk_c5",
        "colab": {
          "base_uri": "https://localhost:8080/"
        },
        "outputId": "88b38ec4-9c6b-4694-a3ee-ec71a7ede308"
      },
      "execution_count": 8,
      "outputs": [
        {
          "output_type": "stream",
          "name": "stdout",
          "text": [
            "1100.0\n"
          ]
        }
      ]
    },
    {
      "cell_type": "markdown",
      "source": [],
      "metadata": {
        "id": "3CHC0PbiwwwV"
      }
    },
    {
      "cell_type": "code",
      "source": [],
      "metadata": {
        "id": "DNTOZgFT4Cp0"
      },
      "execution_count": null,
      "outputs": []
    },
    {
      "cell_type": "code",
      "source": [],
      "metadata": {
        "id": "ju3Onoz1k_qW"
      },
      "execution_count": null,
      "outputs": []
    }
  ]
}